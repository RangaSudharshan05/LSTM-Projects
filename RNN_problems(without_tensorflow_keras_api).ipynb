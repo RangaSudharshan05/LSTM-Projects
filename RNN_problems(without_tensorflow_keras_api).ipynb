{
  "nbformat": 4,
  "nbformat_minor": 0,
  "metadata": {
    "colab": {
      "name": "RNN problems(without tensorflow/keras api).ipynb",
      "provenance": []
    },
    "kernelspec": {
      "name": "python3",
      "display_name": "Python 3"
    },
    "accelerator": "GPU"
  },
  "cells": [
    {
      "cell_type": "code",
      "metadata": {
        "colab": {
          "base_uri": "https://localhost:8080/"
        },
        "id": "CTKyRY1MJkz8",
        "outputId": "8a561a51-9ef4-40a9-b2c8-12fa5e619b71"
      },
      "source": [
        "%cd /content/drive/MyDrive"
      ],
      "execution_count": 1,
      "outputs": [
        {
          "output_type": "stream",
          "text": [
            "/content/drive/MyDrive\n"
          ],
          "name": "stdout"
        }
      ]
    },
    {
      "cell_type": "code",
      "metadata": {
        "id": "t3rJZzT5KoyB"
      },
      "source": [
        "from rnn_utils import *\r\n",
        "import numpy as np"
      ],
      "execution_count": 2,
      "outputs": []
    },
    {
      "cell_type": "code",
      "metadata": {
        "colab": {
          "base_uri": "https://localhost:8080/"
        },
        "id": "cD1fyPI-LFZc",
        "outputId": "8051a989-567f-4805-8270-da4b0368fd14"
      },
      "source": [
        "### Implementing basic RNN\r\n",
        "\r\n",
        "def rnn_cell_forward(xt, a_prev, parameters):\r\n",
        "    \"\"\"\r\n",
        "    xt= input data at timestep \"t\", numpy array of shape (n_x, m).\r\n",
        "    a_prev= Hidden state at timestep \"t-1\", numpy array of shape (n_a, m)\r\n",
        "    parameters= python dictionary containing:\r\n",
        "                        Wax -- Weight matrix multiplying the input, numpy array of shape (n_a, n_x)\r\n",
        "                        Waa -- Weight matrix multiplying the hidden state, numpy array of shape (n_a, n_a)\r\n",
        "                        Wya -- Weight matrix relating the hidden-state to the output, numpy array of shape (n_y, n_a)\r\n",
        "                        ba --  Bias, numpy array of shape (n_a, 1)\r\n",
        "                        by -- Bias relating the hidden-state to the output, numpy array of shape (n_y, 1)\r\n",
        "    \"\"\"\r\n",
        "    \r\n",
        "    Wax = parameters[\"Wax\"]\r\n",
        "    Waa = parameters[\"Waa\"]\r\n",
        "    Wya = parameters[\"Wya\"]\r\n",
        "    ba = parameters[\"ba\"]\r\n",
        "    by = parameters[\"by\"]\r\n",
        "\r\n",
        "    a_next_timestep=np.tanh(np.dot(Wax,xt) + np.dot(Waa,a_prev) + ba)\r\n",
        "    pred_timestep= softmax(np.dot(Wya,a_next_timestep)+by)\r\n",
        "    cache = (a_next_timestep, a_prev, xt, parameters)\r\n",
        "    \r\n",
        "    return a_next_timestep, pred_timestep, cache\r\n",
        "np.random.seed(1)\r\n",
        "xt=np.random.randn(3,10)\r\n",
        "a_prev = np.random.randn(5,10)\r\n",
        "Waa = np.random.randn(5,5)\r\n",
        "Wax = np.random.randn(5,3)\r\n",
        "Wya = np.random.randn(2,5)\r\n",
        "ba = np.random.randn(5,1)\r\n",
        "by = np.random.randn(2,1)\r\n",
        "parameters = {\"Waa\": Waa, \"Wax\": Wax, \"Wya\": Wya, \"ba\": ba, \"by\": by}\r\n",
        "\r\n",
        "a_next, pred_timestep, cache= rnn_cell_forward(xt,a_prev,parameters)\r\n",
        "a_next.shape, pred_timestep.shape"
      ],
      "execution_count": 8,
      "outputs": [
        {
          "output_type": "execute_result",
          "data": {
            "text/plain": [
              "((5, 10), (2, 10))"
            ]
          },
          "metadata": {
            "tags": []
          },
          "execution_count": 8
        }
      ]
    },
    {
      "cell_type": "code",
      "metadata": {
        "colab": {
          "base_uri": "https://localhost:8080/"
        },
        "id": "WOlL0jeCk4o_",
        "outputId": "becd9e29-7985-49a8-8808-8db11cf198a7"
      },
      "source": [
        "def rnn_forward(x, a0, parameters):\r\n",
        "    \"\"\"\r\n",
        "    Arguments:\r\n",
        "    x = Input data for every time-step, of shape (n_x, m, T_x).\r\n",
        "    a0 = Initial hidden state, of shape (n_a, m)\r\n",
        "    \"\"\"\r\n",
        "    caches = []                # Initialize \"caches\" which will contain the list of all caches\r\n",
        "\r\n",
        "    n_x, m, T_x = x.shape      # Retrieve dimensions from shapes of x and parameters[\"Wya\"]\r\n",
        "    n_y, n_a = parameters[\"Wya\"].shape\r\n",
        "    \r\n",
        "    a_next=a0\r\n",
        "    a=np.zeros((n_a,m,T_x))\r\n",
        "    predictions=np.zeros((n_y,m,T_x))\r\n",
        "\r\n",
        "    for t in range(T_x):\r\n",
        "      a_next, pred_timestep, cache= rnn_cell_forward(x[:,:,t],a_next,parameters)\r\n",
        "      a[:,:,t]=a_next\r\n",
        "      predictions[:,:,t]=pred_timestep\r\n",
        "      caches.append(cache)\r\n",
        "    caches = (caches, x)\r\n",
        "    \r\n",
        "    return a, predictions, caches\r\n",
        "\r\n",
        "np.random.seed(1)\r\n",
        "x = np.random.randn(3,10,4)\r\n",
        "a0 = np.random.randn(5,10)\r\n",
        "Waa = np.random.randn(5,5)\r\n",
        "Wax = np.random.randn(5,3)\r\n",
        "Wya = np.random.randn(2,5)\r\n",
        "ba = np.random.randn(5,1)\r\n",
        "by = np.random.randn(2,1)\r\n",
        "parameters = {\"Waa\": Waa, \"Wax\": Wax, \"Wya\": Wya, \"ba\": ba, \"by\": by}\r\n",
        "\r\n",
        "a, y_pred, caches = rnn_forward(x, a0, parameters)\r\n",
        "a.shape, y_pred.shape,a[1][1][1] #first dimension of activation for first training example at the first time step"
      ],
      "execution_count": 14,
      "outputs": [
        {
          "output_type": "execute_result",
          "data": {
            "text/plain": [
              "((5, 10, 4), (2, 10, 4), -0.9980852070002562)"
            ]
          },
          "metadata": {
            "tags": []
          },
          "execution_count": 14
        }
      ]
    },
    {
      "cell_type": "code",
      "metadata": {
        "colab": {
          "base_uri": "https://localhost:8080/"
        },
        "id": "_r8IaGWppLC7",
        "outputId": "615543a4-7b28-4bd2-c531-a9f670448351"
      },
      "source": [
        "### Implementing basic LSTM structure\r\n",
        "\r\n",
        "def lstm_cell_forward(xt, a_prev, c_prev, parameters):\r\n",
        "    \"\"\"\r\n",
        "    parameters -- python dictionary containing:\r\n",
        "                        Wf -- Weight matrix of the forget gate, numpy array of shape (n_a, n_a + n_x)\r\n",
        "                        bf -- Bias of the forget gate, numpy array of shape (n_a, 1)\r\n",
        "                        Wi -- Weight matrix of the update gate, numpy array of shape (n_a, n_a + n_x)\r\n",
        "                        bi -- Bias of the update gate, numpy array of shape (n_a, 1)\r\n",
        "                        Wc -- Weight matrix of the first \"tanh\", numpy array of shape (n_a, n_a + n_x)\r\n",
        "                        bc --  Bias of the first \"tanh\", numpy array of shape (n_a, 1)\r\n",
        "                        Wo -- Weight matrix of the output gate, numpy array of shape (n_a, n_a + n_x)\r\n",
        "                        bo --  Bias of the output gate, numpy array of shape (n_a, 1)\r\n",
        "                        Wy -- Weight matrix relating the hidden-state to the output, numpy array of shape (n_y, n_a)\r\n",
        "                        by -- Bias relating the hidden-state to the output, numpy array of shape (n_y, 1)\r\n",
        "\r\n",
        "    \"\"\"\r\n",
        "    # Retrieve parameters from \"parameters\"\r\n",
        "    Wf = parameters[\"Wf\"]\r\n",
        "    bf = parameters[\"bf\"]\r\n",
        "    Wi = parameters[\"Wi\"]\r\n",
        "    bi = parameters[\"bi\"]\r\n",
        "    Wc = parameters[\"Wc\"]\r\n",
        "    bc = parameters[\"bc\"]\r\n",
        "    Wo = parameters[\"Wo\"]\r\n",
        "    bo = parameters[\"bo\"]\r\n",
        "    Wy = parameters[\"Wy\"]\r\n",
        "    by = parameters[\"by\"]\r\n",
        "    \r\n",
        "    # Retrieve dimensions from shapes of xt and Wy\r\n",
        "    n_x, m = xt.shape   #3,10\r\n",
        "    n_y, n_a = Wy.shape #2,5\r\n",
        "\r\n",
        "    concat=np.zeros([n_a+n_x,m])\r\n",
        "    concat[:n_a,:]=a_prev\r\n",
        "    concat[n_a:,:]=xt\r\n",
        "\r\n",
        "    forget_gate=sigmoid(np.dot(Wf,concat)+bf)\r\n",
        "    update_gate=sigmoid(np.dot(Wi,concat)+bi)\r\n",
        "    c_tilda=np.tanh(np.dot(Wc,concat)+bc)\r\n",
        "    output_gate=sigmoid(np.dot(Wo,concat)+bo)\r\n",
        "\r\n",
        "    cell_state=forget_gate*c_prev + update_gate*c_tilda\r\n",
        "    a_next=update_gate*np.tanh(cell_state)\r\n",
        "\r\n",
        "    pred_next=softmax(np.dot(Wy,a_next)+by)\r\n",
        "    cache = (a_next, cell_state, a_prev, c_prev, forget_gate, update_gate, c_tilda, output_gate, xt, parameters)\r\n",
        "\r\n",
        "    return a_next, cell_state, pred_next, cache\r\n",
        "\r\n",
        "np.random.seed(1)\r\n",
        "xt = np.random.randn(3,10)\r\n",
        "a_prev = np.random.randn(5,10)\r\n",
        "c_prev = np.random.randn(5,10)\r\n",
        "Wf = np.random.randn(5, 5+3)\r\n",
        "bf = np.random.randn(5,1)\r\n",
        "Wi = np.random.randn(5, 5+3)\r\n",
        "bi = np.random.randn(5,1)\r\n",
        "Wo = np.random.randn(5, 5+3)\r\n",
        "bo = np.random.randn(5,1)\r\n",
        "Wc = np.random.randn(5, 5+3)\r\n",
        "bc = np.random.randn(5,1)\r\n",
        "Wy = np.random.randn(2,5)\r\n",
        "by = np.random.randn(2,1)\r\n",
        "\r\n",
        "parameters = {\"Wf\": Wf, \"Wi\": Wi, \"Wo\": Wo, \"Wc\": Wc, \"Wy\": Wy, \"bf\": bf, \"bi\": bi, \"bo\": bo, \"bc\": bc, \"by\": by}\r\n",
        "\r\n",
        "a_next, c_next, yt, cache = lstm_cell_forward(xt, a_prev, c_prev, parameters)\r\n",
        "print(\"a_next[4] = \", a_next[4])\r\n",
        "print(\"a_next.shape = \", c_next.shape)\r\n",
        "print(\"c_next[2] = \", c_next[2])\r\n",
        "print(\"c_next.shape = \", c_next.shape)\r\n",
        "print(\"yt[1] =\", yt[1])\r\n",
        "print(\"yt.shape = \", yt.shape)\r\n",
        "print(\"cache[1][3] =\", cache[1][3])\r\n",
        "print(\"len(cache) = \", len(cache))\r\n"
      ],
      "execution_count": 20,
      "outputs": [
        {
          "output_type": "stream",
          "text": [
            "a_next[4] =  [-0.76386258  0.26723682  0.00566367  0.00286592 -0.22309686  0.75466609\n",
            "  0.79208484  0.07053749 -0.12783557  0.09979419]\n",
            "a_next.shape =  (5, 10)\n",
            "c_next[2] =  [ 0.63267805  1.00570849  0.35504474  0.20690913 -1.64566718  0.11832942\n",
            "  0.76449811 -0.0981561  -0.74348425 -0.26810932]\n",
            "c_next.shape =  (5, 10)\n",
            "yt[1] = [0.83783903 0.11489852 0.28282751 0.31999615 0.73845617 0.02930639\n",
            " 0.0087668  0.30423149 0.52150241 0.32567821]\n",
            "yt.shape =  (2, 10)\n",
            "cache[1][3] = [-0.16263996  1.03729328  0.72938082 -0.54101719  0.02752074 -0.30821874\n",
            "  0.07651101 -1.03752894  1.41219977 -0.37647422]\n",
            "len(cache) =  10\n"
          ],
          "name": "stdout"
        }
      ]
    },
    {
      "cell_type": "code",
      "metadata": {
        "colab": {
          "base_uri": "https://localhost:8080/"
        },
        "id": "d-b5jcAIvPoF",
        "outputId": "5ca8bc0e-e1a0-4aa9-cb6b-7435a5658ff1"
      },
      "source": [
        "def lstm_forward(x, a0, parameters):\r\n",
        "    caches=[]\r\n",
        "    n_x,m,T_x=x.shape\r\n",
        "    caches = []                # Initialize \"caches\" which will contain the list of all caches\r\n",
        "\r\n",
        "    n_x, m, T_x = x.shape      # Retrieve dimensions from shapes of x and parameters[\"Wya\"]\r\n",
        "    n_y, n_a = parameters[\"Wy\"].shape\r\n",
        "    \r\n",
        "    a_next=a0\r\n",
        "    c=np.zeros([n_a,m,T_x])\r\n",
        "    a=np.zeros([n_a,m,T_x])\r\n",
        "    predictions=np.zeros([n_y,m,T_x])\r\n",
        "    cell_state=c[:,:,0]\r\n",
        "\r\n",
        "    for t in range(T_x):\r\n",
        "      a_next, cell_state, pred_next, cache= lstm_cell_forward(x[:,:,t],a_next,cell_state,parameters)\r\n",
        "      a[:,:,t]=a_next\r\n",
        "      predictions[:,:,t]=pred_next\r\n",
        "      caches.append(cache)\r\n",
        "      c[:,:,t]=cell_state\r\n",
        "\r\n",
        "    caches = (caches, x)\r\n",
        "    \r\n",
        "    return a, predictions,c, caches\r\n",
        "np.random.seed(1)\r\n",
        "x = np.random.randn(3,10,7)\r\n",
        "a0 = np.random.randn(5,10)\r\n",
        "Wf = np.random.randn(5, 5+3)\r\n",
        "bf = np.random.randn(5,1)\r\n",
        "Wi = np.random.randn(5, 5+3)\r\n",
        "bi = np.random.randn(5,1)\r\n",
        "Wo = np.random.randn(5, 5+3)\r\n",
        "bo = np.random.randn(5,1)\r\n",
        "Wc = np.random.randn(5, 5+3)\r\n",
        "bc = np.random.randn(5,1)\r\n",
        "Wy = np.random.randn(2,5)\r\n",
        "by = np.random.randn(2,1)\r\n",
        "\r\n",
        "parameters = {\"Wf\": Wf, \"Wi\": Wi, \"Wo\": Wo, \"Wc\": Wc, \"Wy\": Wy, \"bf\": bf, \"bi\": bi, \"bo\": bo, \"bc\": bc, \"by\": by}\r\n",
        "\r\n",
        "a, y, c, caches = lstm_forward(x, a0, parameters)\r\n",
        "print(\"a[4][3][6] = \", a[4][3][6])\r\n",
        "print(\"a.shape = \", a.shape)\r\n",
        "print(\"y[1][4][3] =\", y[1][4][3])\r\n",
        "print(\"y.shape = \", y.shape)\r\n",
        "print(\"caches[1][1[1]] =\", caches[1][1][1])\r\n",
        "print(\"c[1][2][1]\", c[1][2][1])\r\n",
        "print(\"len(caches) = \", len(caches))\r\n",
        "\r\n"
      ],
      "execution_count": 25,
      "outputs": [
        {
          "output_type": "stream",
          "text": [
            "a[4][3][6] =  0.6951498862664757\n",
            "a.shape =  (5, 10, 7)\n",
            "y[1][4][3] = 0.9705921702877582\n",
            "y.shape =  (2, 10, 7)\n",
            "caches[1][1[1]] = [ 0.82797464  0.23009474  0.76201118 -0.22232814 -0.20075807  0.18656139\n",
            "  0.41005165]\n",
            "c[1][2][1] -0.8577763469467968\n",
            "len(caches) =  2\n"
          ],
          "name": "stdout"
        }
      ]
    },
    {
      "cell_type": "code",
      "metadata": {
        "id": "VxKIdtkmyTOq"
      },
      "source": [
        ""
      ],
      "execution_count": null,
      "outputs": []
    }
  ]
}